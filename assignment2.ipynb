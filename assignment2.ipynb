{
 "cells": [
  {
   "cell_type": "code",
   "execution_count": null,
   "id": "dc1f504d-b78d-415c-8c19-31df9d59e75d",
   "metadata": {},
   "outputs": [],
   "source": [
    "Q1. How do you comment code in Python? What are the different types of comments?"
   ]
  },
  {
   "cell_type": "markdown",
   "id": "20d9850d-5001-44d5-b004-5beb19cd3184",
   "metadata": {},
   "source": [
    "'#' symbol to create single line commenents anythings following the '#' on that line treated\n",
    "as a commenet and won't be executed.\n",
    "\n",
    "for multi-line comments, you can use triple-quotes(\"\"\"or''')as delimeter.Although python does not have a specific syntax\n",
    "for multi-line comments"
   ]
  },
  {
   "cell_type": "code",
   "execution_count": null,
   "id": "ec673ed8-25ef-492d-adc0-7812f5e2a361",
   "metadata": {},
   "outputs": [],
   "source": [
    "Q2. What are variables in Python? How do you declare and assign values to variables?"
   ]
  },
  {
   "cell_type": "code",
   "execution_count": null,
   "id": "3955606b-b713-468a-858c-d4723fc4a5da",
   "metadata": {},
   "outputs": [],
   "source": [
    "varible are used to store and manipulated data. you can declare a variable by choosing a name\n",
    "and using the assignment operator('=') to assign value to it."
   ]
  },
  {
   "cell_type": "code",
   "execution_count": 1,
   "id": "cfc9660f-03bf-467a-86cb-f9e899cfe6f4",
   "metadata": {},
   "outputs": [],
   "source": [
    "my_variable=42\n",
    "name=\"John\"\n",
    "is_python=True"
   ]
  },
  {
   "cell_type": "code",
   "execution_count": null,
   "id": "d0f37ce1-4253-4514-91b8-0ad2e8d1431b",
   "metadata": {},
   "outputs": [],
   "source": [
    "Q3. How do you convert one data type to another in Python?"
   ]
  },
  {
   "cell_type": "code",
   "execution_count": 2,
   "id": "1da4f7b2-469e-47f0-aea2-2b173bafa3c9",
   "metadata": {},
   "outputs": [],
   "source": [
    "float_number=3.14\n",
    "integer_number=int(float_number)\n"
   ]
  },
  {
   "cell_type": "code",
   "execution_count": 4,
   "id": "658d1ac5-61e5-4c6f-8de2-6a718a29baad",
   "metadata": {},
   "outputs": [],
   "source": [
    "integer_number =42\n",
    "float_number=float(integer_number)"
   ]
  },
  {
   "cell_type": "code",
   "execution_count": 5,
   "id": "c6e032f6-2d80-4edd-9207-f9c3298e61cb",
   "metadata": {},
   "outputs": [],
   "source": [
    "number=123\n",
    "text=str(number)"
   ]
  },
  {
   "cell_type": "code",
   "execution_count": 6,
   "id": "e288b7b4-ce9d-4dfe-8342-b64ca15f486c",
   "metadata": {},
   "outputs": [],
   "source": [
    "my_tuple=(1,2,3)\n",
    "my_list=list(my_tuple)"
   ]
  },
  {
   "cell_type": "code",
   "execution_count": 7,
   "id": "102a9e47-1867-4438-b54f-a260101153fb",
   "metadata": {},
   "outputs": [],
   "source": [
    "my_list=[4,5,6]\n",
    "my_tuple=tuple(my_list)"
   ]
  },
  {
   "cell_type": "code",
   "execution_count": null,
   "id": "31d91e0b-aa87-45b5-8c37-6d6f48e32941",
   "metadata": {},
   "outputs": [],
   "source": [
    "Q4. How do you write and execute a Python script from the command line?"
   ]
  },
  {
   "cell_type": "code",
   "execution_count": null,
   "id": "d4687559-8cff-4214-bbbd-cf04f3143437",
   "metadata": {},
   "outputs": [],
   "source": [
    "open a text editor and write your python script save it with a .py extension.for example ,create a file\n",
    "name 'myscript.py'and add some python code"
   ]
  },
  {
   "cell_type": "code",
   "execution_count": 8,
   "id": "e5f5d8af-8b97-448f-8678-ba44a2db488e",
   "metadata": {},
   "outputs": [
    {
     "name": "stdout",
     "output_type": "stream",
     "text": [
      "Hello,Python!\n"
     ]
    }
   ],
   "source": [
    "# myscript.py\n",
    "print(\"Hello,Python!\")"
   ]
  },
  {
   "cell_type": "code",
   "execution_count": null,
   "id": "ee42eec4-e7f2-42f4-bb21-559493acc917",
   "metadata": {},
   "outputs": [],
   "source": [
    "open commond line\n",
    "Navigate to the Script's Directory:\n"
   ]
  },
  {
   "cell_type": "markdown",
   "id": "5df89c61-e390-4a4c-b118-0ee1909892fd",
   "metadata": {},
   "source": [
    "cd path/to/your/script"
   ]
  },
  {
   "cell_type": "code",
   "execution_count": null,
   "id": "b2bf82db-0461-4f50-91eb-7f9ebcc5bc05",
   "metadata": {},
   "outputs": [],
   "source": [
    "Execute the script:\n",
    "python myscript.py    "
   ]
  },
  {
   "cell_type": "code",
   "execution_count": null,
   "id": "fd10adb6-3aa7-4e5f-a54f-9fe821da3c19",
   "metadata": {},
   "outputs": [],
   "source": [
    "Q5. Given a list my_list = [1, 2, 3, 4, 5], write the code to slice the list and obtain the sub-list [2, 3]."
   ]
  },
  {
   "cell_type": "code",
   "execution_count": 10,
   "id": "df89d0cd-d312-4085-9f1f-bbb8fef5dcda",
   "metadata": {},
   "outputs": [],
   "source": [
    "my_list=[1,2,3,4,5]"
   ]
  },
  {
   "cell_type": "code",
   "execution_count": 11,
   "id": "23a705f8-0931-4ea3-ae87-2ab328de8e11",
   "metadata": {},
   "outputs": [
    {
     "name": "stdout",
     "output_type": "stream",
     "text": [
      "[2, 3]\n"
     ]
    }
   ],
   "source": [
    "sub_list=my_list[1:3]\n",
    "print(sub_list)"
   ]
  },
  {
   "cell_type": "code",
   "execution_count": null,
   "id": "6db3c768-17f9-4289-b65d-a441226e50dc",
   "metadata": {},
   "outputs": [],
   "source": [
    "Q6. What is a complex number in mathematics, and how is it represented in Python?"
   ]
  },
  {
   "cell_type": "code",
   "execution_count": 12,
   "id": "ef432751-7c4e-4487-a564-85071d713e0b",
   "metadata": {},
   "outputs": [],
   "source": [
    "# create a complex number"
   ]
  },
  {
   "cell_type": "code",
   "execution_count": 13,
   "id": "2260ed30-d18d-45a0-ab49-940931ada74f",
   "metadata": {},
   "outputs": [
    {
     "name": "stdout",
     "output_type": "stream",
     "text": [
      "(3+4j)\n"
     ]
    }
   ],
   "source": [
    "z=3+4j\n",
    "print(z)"
   ]
  },
  {
   "cell_type": "code",
   "execution_count": 14,
   "id": "2b68a604-7933-4864-85e8-7b6fb72e3f77",
   "metadata": {},
   "outputs": [],
   "source": [
    "# Real and Img part"
   ]
  },
  {
   "cell_type": "code",
   "execution_count": 15,
   "id": "6e7f64fe-d45a-4883-8aef-6fc07e462d24",
   "metadata": {},
   "outputs": [
    {
     "name": "stdout",
     "output_type": "stream",
     "text": [
      "3.0 4.0\n"
     ]
    }
   ],
   "source": [
    "real_part=z.real\n",
    "imaginary_part=z.imag\n",
    "print(real_part,imaginary_part)"
   ]
  },
  {
   "cell_type": "code",
   "execution_count": null,
   "id": "352108a6-3396-4721-9b3a-3cb5126fc7d8",
   "metadata": {},
   "outputs": [],
   "source": [
    "Q7. What is the correct way to declare a variable named age and assign the value 25 to it?"
   ]
  },
  {
   "cell_type": "code",
   "execution_count": null,
   "id": "3a1ac8fd-2b19-46cf-8580-8725e097fe25",
   "metadata": {},
   "outputs": [],
   "source": [
    "age=25\n",
    "declares a variable name age and assign the integer value 25 to it. Now i can use variable age"
   ]
  },
  {
   "cell_type": "code",
   "execution_count": null,
   "id": "32aac605-9dea-4879-9c30-ca0da856ff08",
   "metadata": {},
   "outputs": [],
   "source": [
    "Q8. Declare a variable named price and assign the value 9.99 to it. What data type does this variable\n",
    "belong to?"
   ]
  },
  {
   "cell_type": "code",
   "execution_count": null,
   "id": "c8923549-1f7c-4339-a200-1d2f0fb2eb6f",
   "metadata": {},
   "outputs": [],
   "source": [
    "price=9.99\n",
    "the data type of this variable is a floating-point number(float)because it contains a decimal point."
   ]
  },
  {
   "cell_type": "code",
   "execution_count": null,
   "id": "36dfc73c-227e-4899-a094-81dda64a7ea5",
   "metadata": {},
   "outputs": [],
   "source": [
    "Q9. Create a variable named name and assign your full name to it as a string. How would you print the\n",
    "value of this variable?"
   ]
  },
  {
   "cell_type": "code",
   "execution_count": 16,
   "id": "11dc4bd8-dae6-4b32-97a6-43ebcbf8676d",
   "metadata": {},
   "outputs": [],
   "source": [
    "full_name=\"Your Full Name\""
   ]
  },
  {
   "cell_type": "code",
   "execution_count": 17,
   "id": "e2f1fd69-d45e-4de2-bb8b-b2236d13398f",
   "metadata": {},
   "outputs": [
    {
     "name": "stdout",
     "output_type": "stream",
     "text": [
      "Your Full Name\n"
     ]
    }
   ],
   "source": [
    "print(full_name)"
   ]
  },
  {
   "cell_type": "code",
   "execution_count": null,
   "id": "2ad0d36d-6dec-4880-8141-c42497638ecb",
   "metadata": {},
   "outputs": [],
   "source": [
    "Q10. Given the string \"Hello, World!\", extract the substring \"World\"."
   ]
  },
  {
   "cell_type": "code",
   "execution_count": 22,
   "id": "d670de77-b03e-447f-88cb-07aef56c6484",
   "metadata": {},
   "outputs": [
    {
     "name": "stdout",
     "output_type": "stream",
     "text": [
      "World!\n"
     ]
    }
   ],
   "source": [
    "original_string = \"Hello,World!\"\n",
    "substring=original_string[6:12]\n",
    "print(substring)"
   ]
  },
  {
   "cell_type": "code",
   "execution_count": null,
   "id": "165548ec-a56f-41a8-8f85-f6093b7fdc4f",
   "metadata": {},
   "outputs": [],
   "source": [
    "Q11. Create a variable named \"is_student\" and assign it a boolean value indicating whether you are\n",
    "currently a student or not."
   ]
  },
  {
   "cell_type": "code",
   "execution_count": 24,
   "id": "c399a457-c66b-4f10-8060-5073b3ea3a90",
   "metadata": {},
   "outputs": [],
   "source": [
    "is_student=True"
   ]
  },
  {
   "cell_type": "code",
   "execution_count": null,
   "id": "c8933744-b7ca-4ece-8fd5-cec91709cb1b",
   "metadata": {},
   "outputs": [],
   "source": [
    "this variable will be hold the boolean value \n",
    "True if you are curre"
   ]
  },
  {
   "cell_type": "code",
   "execution_count": null,
   "id": "24bc8bdf-e250-4de9-b3e1-40bcc61385b9",
   "metadata": {},
   "outputs": [],
   "source": []
  }
 ],
 "metadata": {
  "kernelspec": {
   "display_name": "Python 3 (ipykernel)",
   "language": "python",
   "name": "python3"
  },
  "language_info": {
   "codemirror_mode": {
    "name": "ipython",
    "version": 3
   },
   "file_extension": ".py",
   "mimetype": "text/x-python",
   "name": "python",
   "nbconvert_exporter": "python",
   "pygments_lexer": "ipython3",
   "version": "3.10.8"
  }
 },
 "nbformat": 4,
 "nbformat_minor": 5
}
